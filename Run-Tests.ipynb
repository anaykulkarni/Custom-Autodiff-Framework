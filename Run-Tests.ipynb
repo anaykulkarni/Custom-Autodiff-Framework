{
 "cells": [
  {
   "cell_type": "code",
   "execution_count": 5,
   "metadata": {},
   "outputs": [
    {
     "name": "stdout",
     "output_type": "stream",
     "text": [
      "\u001b[1m============================= test session starts ==============================\u001b[0m\n",
      "platform darwin -- Python 3.11.8, pytest-7.4.4, pluggy-1.0.0\n",
      "rootdir: /Users/anaykulkarni/Documents/machine-learning/CSE 234/PA/cse234-w25-PA/pa1\n",
      "plugins: anyio-4.2.0\n",
      "collected 15 items                                                             \u001b[0m\u001b[1m\n",
      "\n",
      "tests/test_auto_diff_node_forward.py \u001b[32m.\u001b[0m\u001b[32m.\u001b[0m\u001b[32m.\u001b[0m\u001b[32m.\u001b[0m\u001b[32m.\u001b[0m\u001b[32m.\u001b[0m\u001b[32m.\u001b[0m\u001b[32m.\u001b[0m\u001b[32m.\u001b[0m\u001b[32m.\u001b[0m\u001b[32m.\u001b[0m\u001b[32m.\u001b[0m\u001b[32m.\u001b[0m\u001b[32m.\u001b[0m\u001b[32m.\u001b[0m\u001b[32m                     [100%]\u001b[0m\n",
      "\n",
      "\u001b[32m============================== \u001b[32m\u001b[1m15 passed\u001b[0m\u001b[32m in 0.94s\u001b[0m\u001b[32m ==============================\u001b[0m\n"
     ]
    }
   ],
   "source": [
    "!pytest tests/test_auto_diff_node_forward.py"
   ]
  },
  {
   "cell_type": "code",
   "execution_count": 6,
   "metadata": {},
   "outputs": [
    {
     "name": "stdout",
     "output_type": "stream",
     "text": [
      "\u001b[1m============================= test session starts ==============================\u001b[0m\n",
      "platform darwin -- Python 3.11.8, pytest-7.4.4, pluggy-1.0.0\n",
      "rootdir: /Users/anaykulkarni/Documents/machine-learning/CSE 234/PA/cse234-w25-PA/pa1\n",
      "plugins: anyio-4.2.0\n",
      "collected 9 items                                                              \u001b[0m\u001b[1m\n",
      "\n",
      "tests/test_auto_diff_graph_forward.py \u001b[32m.\u001b[0m\u001b[32m.\u001b[0m\u001b[32m.\u001b[0m\u001b[32m.\u001b[0m\u001b[32m.\u001b[0m\u001b[32m.\u001b[0m\u001b[32m.\u001b[0m\u001b[32m.\u001b[0m\u001b[32m.\u001b[0m\u001b[32m                          [100%]\u001b[0m\n",
      "\n",
      "\u001b[32m============================== \u001b[32m\u001b[1m9 passed\u001b[0m\u001b[32m in 0.76s\u001b[0m\u001b[32m ===============================\u001b[0m\n"
     ]
    }
   ],
   "source": [
    "!pytest tests/test_auto_diff_graph_forward.py"
   ]
  },
  {
   "cell_type": "code",
   "execution_count": 7,
   "metadata": {},
   "outputs": [
    {
     "name": "stdout",
     "output_type": "stream",
     "text": [
      "\u001b[1m============================= test session starts ==============================\u001b[0m\n",
      "platform darwin -- Python 3.11.8, pytest-7.4.4, pluggy-1.0.0\n",
      "rootdir: /Users/anaykulkarni/Documents/machine-learning/CSE 234/PA/cse234-w25-PA/pa1\n",
      "plugins: anyio-4.2.0\n",
      "collected 23 items                                                             \u001b[0m\u001b[1m\n",
      "\n",
      "tests/test_auto_diff_node_backward.py \u001b[32m.\u001b[0m\u001b[32m.\u001b[0m\u001b[32m.\u001b[0m\u001b[32m.\u001b[0m\u001b[32m.\u001b[0m\u001b[32m.\u001b[0m\u001b[32m.\u001b[0m\u001b[32m.\u001b[0m\u001b[32m.\u001b[0m\u001b[32m.\u001b[0m\u001b[32m.\u001b[0m\u001b[32m.\u001b[0m\u001b[32m.\u001b[0m\u001b[32m.\u001b[0m\u001b[32m.\u001b[0m\u001b[32m.\u001b[0m\u001b[32m.\u001b[0m\u001b[32m.\u001b[0m\u001b[32m.\u001b[0m\u001b[32m.\u001b[0m\u001b[32m.\u001b[0m\u001b[32m.\u001b[0m\u001b[32m.\u001b[0m\u001b[32m            [100%]\u001b[0m\n",
      "\n",
      "\u001b[32m============================== \u001b[32m\u001b[1m23 passed\u001b[0m\u001b[32m in 0.73s\u001b[0m\u001b[32m ==============================\u001b[0m\n"
     ]
    }
   ],
   "source": [
    "!pytest tests/test_auto_diff_node_backward.py"
   ]
  },
  {
   "cell_type": "code",
   "execution_count": 8,
   "metadata": {},
   "outputs": [
    {
     "name": "stdout",
     "output_type": "stream",
     "text": [
      "\u001b[1m============================= test session starts ==============================\u001b[0m\n",
      "platform darwin -- Python 3.11.8, pytest-7.4.4, pluggy-1.0.0\n",
      "rootdir: /Users/anaykulkarni/Documents/machine-learning/CSE 234/PA/cse234-w25-PA/pa1\n",
      "plugins: anyio-4.2.0\n",
      "collected 2 items                                                              \u001b[0m\u001b[1m\n",
      "\n",
      "tests/test_auto_diff_graph_backward.py \u001b[32m.\u001b[0m\u001b[32m.\u001b[0m\u001b[32m                                [100%]\u001b[0m\n",
      "\n",
      "\u001b[32m============================== \u001b[32m\u001b[1m2 passed\u001b[0m\u001b[32m in 0.71s\u001b[0m\u001b[32m ===============================\u001b[0m\n"
     ]
    }
   ],
   "source": [
    "!pytest tests/test_auto_diff_graph_backward.py"
   ]
  },
  {
   "cell_type": "code",
   "execution_count": 4,
   "metadata": {},
   "outputs": [
    {
     "name": "stdout",
     "output_type": "stream",
     "text": [
      "Avg_loss: 1.7928790119336129\n",
      "Epoch 0: test accuracy = 0.4629, loss = 1.7928790119336129\n",
      "Avg_loss: 1.5747343829589981\n",
      "Epoch 1: test accuracy = 0.5108, loss = 1.5747343829589981\n",
      "Avg_loss: 1.493017288909755\n",
      "Epoch 2: test accuracy = 0.5264, loss = 1.493017288909755\n",
      "Avg_loss: 1.439837313481162\n",
      "Epoch 3: test accuracy = 0.5635, loss = 1.439837313481162\n",
      "Avg_loss: 1.4013219765267564\n",
      "Epoch 4: test accuracy = 0.5832, loss = 1.4013219765267564\n",
      "Avg_loss: 1.3695041724738695\n",
      "Epoch 5: test accuracy = 0.5843, loss = 1.3695041724738695\n",
      "Avg_loss: 1.3465337643245507\n",
      "Epoch 6: test accuracy = 0.5928, loss = 1.3465337643245507\n",
      "Avg_loss: 1.3270334201483864\n",
      "Epoch 7: test accuracy = 0.6021, loss = 1.3270334201483864\n",
      "Avg_loss: 1.3107830925242847\n",
      "Epoch 8: test accuracy = 0.609, loss = 1.3107830925242847\n",
      "Avg_loss: 1.2996895769993666\n",
      "Epoch 9: test accuracy = 0.6126, loss = 1.2996895769993666\n",
      "Avg_loss: 1.2882662153185729\n",
      "Epoch 10: test accuracy = 0.6203, loss = 1.2882662153185729\n",
      "Avg_loss: 1.278844529775006\n",
      "Epoch 11: test accuracy = 0.6098, loss = 1.278844529775006\n",
      "Avg_loss: 1.2705765807781022\n",
      "Epoch 12: test accuracy = 0.6228, loss = 1.2705765807781022\n",
      "Avg_loss: 1.2625498300351972\n",
      "Epoch 13: test accuracy = 0.6356, loss = 1.2625498300351972\n",
      "Avg_loss: 1.2545350906564483\n",
      "Epoch 14: test accuracy = 0.6302, loss = 1.2545350906564483\n",
      "Avg_loss: 1.2473230037199394\n",
      "Epoch 15: test accuracy = 0.6369, loss = 1.2473230037199394\n",
      "Avg_loss: 1.2409316784514492\n",
      "Epoch 16: test accuracy = 0.645, loss = 1.2409316784514492\n",
      "Avg_loss: 1.2344317512729293\n",
      "Epoch 17: test accuracy = 0.6464, loss = 1.2344317512729293\n",
      "Avg_loss: 1.2284395853035899\n",
      "Epoch 18: test accuracy = 0.6498, loss = 1.2284395853035899\n",
      "Avg_loss: 1.2230060174977875\n",
      "Epoch 19: test accuracy = 0.6503, loss = 1.2230060174977875\n",
      "Final test accuracy: 0.6503\n"
     ]
    }
   ],
   "source": [
    "!python transformer.py"
   ]
  },
  {
   "cell_type": "code",
   "execution_count": 9,
   "metadata": {},
   "outputs": [
    {
     "name": "stdout",
     "output_type": "stream",
     "text": [
      "\u001b[1m============================= test session starts ==============================\u001b[0m\n",
      "platform darwin -- Python 3.11.8, pytest-7.4.4, pluggy-1.0.0\n",
      "rootdir: /Users/anaykulkarni/Documents/machine-learning/CSE 234/PA/cse234-w25-PA/pa1\n",
      "plugins: anyio-4.2.0\n",
      "collected 4 items                                                              \u001b[0m\u001b[1m\n",
      "\n",
      "tests/test_fused_ops.py \u001b[32m.\u001b[0m\u001b[32m.\u001b[0m\u001b[32m.\u001b[0m\u001b[32m.\u001b[0m\u001b[32m                                             [100%]\u001b[0m\n",
      "\n",
      "\u001b[32m============================== \u001b[32m\u001b[1m4 passed\u001b[0m\u001b[32m in 0.70s\u001b[0m\u001b[32m ===============================\u001b[0m\n"
     ]
    }
   ],
   "source": [
    "!pytest tests/test_fused_ops.py"
   ]
  },
  {
   "cell_type": "code",
   "execution_count": 10,
   "metadata": {},
   "outputs": [
    {
     "name": "stdout",
     "output_type": "stream",
     "text": [
      "\n",
      "================================================================================\n",
      "Running benchmark: 2D Matrix Multiplication\n",
      "================================================================================\n",
      "\n",
      "Testing shapes: (128, 64) @ (64, 128)\n",
      "\n",
      "Testing MatMul + LayerNorm:\n",
      "\n",
      "Forward Pass:\n",
      "Fused:    0.223 ms ± 0.041 ms\n",
      "Unfused:  0.214 ms ± 0.013 ms\n",
      "Speedup:  0.96x\n",
      "\n",
      "Backward Pass:\n",
      "Fused:    0.267 ms ± 0.024 ms\n",
      "Unfused:  0.488 ms ± 0.037 ms\n",
      "Speedup:  1.83x\n",
      "\n",
      "Testing MatMul + Softmax:\n",
      "\n",
      "Forward Pass:\n",
      "Fused:    0.048 ms ± 0.046 ms\n",
      "Unfused:  0.039 ms ± 0.006 ms\n",
      "Speedup:  0.81x\n",
      "\n",
      "Backward Pass:\n",
      "Fused:    0.084 ms ± 0.020 ms\n",
      "Unfused:  0.133 ms ± 0.018 ms\n",
      "Speedup:  1.58x\n",
      "\n",
      "Testing shapes: (512, 256) @ (256, 512)\n",
      "\n",
      "Testing MatMul + LayerNorm:\n",
      "\n",
      "Forward Pass:\n",
      "Fused:    0.988 ms ± 0.151 ms\n",
      "Unfused:  0.952 ms ± 0.060 ms\n",
      "Speedup:  0.96x\n",
      "\n",
      "Backward Pass:\n",
      "Fused:    1.577 ms ± 0.179 ms\n",
      "Unfused:  2.772 ms ± 0.889 ms\n",
      "Speedup:  1.76x\n",
      "\n",
      "Testing MatMul + Softmax:\n",
      "\n",
      "Forward Pass:\n",
      "Fused:    0.557 ms ± 0.170 ms\n",
      "Unfused:  0.361 ms ± 0.127 ms\n",
      "Speedup:  0.65x\n",
      "\n",
      "Backward Pass:\n",
      "Fused:    0.847 ms ± 0.207 ms\n",
      "Unfused:  1.296 ms ± 0.302 ms\n",
      "Speedup:  1.53x\n",
      "\n",
      "Testing shapes: (1024, 512) @ (512, 1024)\n",
      "\n",
      "Testing MatMul + LayerNorm:\n",
      "\n",
      "Forward Pass:\n",
      "Fused:    4.714 ms ± 0.321 ms\n",
      "Unfused:  4.963 ms ± 0.510 ms\n",
      "Speedup:  1.05x\n",
      "\n",
      "Backward Pass:\n",
      "Fused:    9.040 ms ± 0.547 ms\n",
      "Unfused:  14.739 ms ± 3.479 ms\n",
      "Speedup:  1.63x\n",
      "\n",
      "Testing MatMul + Softmax:\n",
      "\n",
      "Forward Pass:\n",
      "Fused:    2.175 ms ± 0.294 ms\n",
      "Unfused:  2.207 ms ± 0.296 ms\n",
      "Speedup:  1.01x\n",
      "\n",
      "Backward Pass:\n",
      "Fused:    5.967 ms ± 0.675 ms\n",
      "Unfused:  8.514 ms ± 1.513 ms\n",
      "Speedup:  1.43x\n",
      "\n",
      "================================================================================\n",
      "Running benchmark: 3D Batch Matrix Multiplication\n",
      "================================================================================\n",
      "\n",
      "Testing shapes: (32, 128, 64) @ (32, 64, 128)\n",
      "\n",
      "Testing MatMul + LayerNorm:\n",
      "\n",
      "Forward Pass:\n",
      "Fused:    2.199 ms ± 0.289 ms\n",
      "Unfused:  2.295 ms ± 0.374 ms\n",
      "Speedup:  1.04x\n",
      "\n",
      "Backward Pass:\n",
      "Fused:    3.463 ms ± 0.301 ms\n",
      "Unfused:  5.961 ms ± 0.541 ms\n",
      "Speedup:  1.72x\n",
      "\n",
      "Testing MatMul + Softmax:\n",
      "\n",
      "Forward Pass:\n",
      "Fused:    0.816 ms ± 0.095 ms\n",
      "Unfused:  0.883 ms ± 0.184 ms\n",
      "Speedup:  1.08x\n",
      "\n",
      "Backward Pass:\n",
      "Fused:    1.622 ms ± 0.377 ms\n",
      "Unfused:  2.600 ms ± 0.379 ms\n",
      "Speedup:  1.60x\n",
      "\n",
      "Testing shapes: (64, 256, 128) @ (64, 128, 256)\n",
      "\n",
      "Testing MatMul + LayerNorm:\n",
      "\n",
      "Forward Pass:\n",
      "Fused:    16.827 ms ± 0.250 ms\n",
      "Unfused:  16.813 ms ± 0.294 ms\n",
      "Speedup:  1.00x\n",
      "\n",
      "Backward Pass:\n",
      "Fused:    29.391 ms ± 6.347 ms\n",
      "Unfused:  46.818 ms ± 3.967 ms\n",
      "Speedup:  1.59x\n",
      "\n",
      "Testing MatMul + Softmax:\n",
      "\n",
      "Forward Pass:\n",
      "Fused:    7.131 ms ± 0.732 ms\n",
      "Unfused:  6.671 ms ± 0.293 ms\n",
      "Speedup:  0.94x\n",
      "\n",
      "Backward Pass:\n",
      "Fused:    16.664 ms ± 0.861 ms\n",
      "Unfused:  25.483 ms ± 1.982 ms\n",
      "Speedup:  1.53x\n",
      "\n",
      "Testing shapes: (128, 512, 256) @ (128, 256, 512)\n",
      "\n",
      "Testing MatMul + LayerNorm:\n",
      "\n",
      "Forward Pass:\n",
      "Fused:    143.067 ms ± 3.732 ms\n",
      "Unfused:  141.200 ms ± 0.735 ms\n",
      "Speedup:  0.99x\n",
      "\n",
      "Backward Pass:\n",
      "Fused:    255.541 ms ± 22.568 ms\n",
      "Unfused:  438.066 ms ± 26.435 ms\n",
      "Speedup:  1.71x\n",
      "\n",
      "Testing MatMul + Softmax:\n",
      "\n",
      "Forward Pass:\n",
      "Fused:    65.574 ms ± 1.859 ms\n",
      "Unfused:  65.636 ms ± 2.969 ms\n",
      "Speedup:  1.00x\n",
      "\n",
      "Backward Pass:\n",
      "Fused:    153.316 ms ± 1.384 ms\n",
      "Unfused:  213.935 ms ± 7.626 ms\n",
      "Speedup:  1.40x\n"
     ]
    }
   ],
   "source": [
    "!python tests/test_fused_ops_perf.py"
   ]
  }
 ],
 "metadata": {
  "kernelspec": {
   "display_name": "base",
   "language": "python",
   "name": "python3"
  },
  "language_info": {
   "codemirror_mode": {
    "name": "ipython",
    "version": 3
   },
   "file_extension": ".py",
   "mimetype": "text/x-python",
   "name": "python",
   "nbconvert_exporter": "python",
   "pygments_lexer": "ipython3",
   "version": "3.11.8"
  }
 },
 "nbformat": 4,
 "nbformat_minor": 2
}
